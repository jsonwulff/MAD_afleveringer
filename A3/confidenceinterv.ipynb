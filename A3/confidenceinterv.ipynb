{
 "cells": [
  {
   "cell_type": "markdown",
   "metadata": {},
   "source": [
    "# Confidence Intervals"
   ]
  },
  {
   "cell_type": "markdown",
   "metadata": {},
   "source": [
    "Jonas Peters, 20.11.2018"
   ]
  },
  {
   "cell_type": "code",
   "execution_count": 3,
   "metadata": {},
   "outputs": [],
   "source": [
    "import scipy.stats\n",
    "import matplotlib.pyplot as plt\n",
    "%matplotlib inline  \n",
    "import numpy as np"
   ]
  },
  {
   "cell_type": "code",
   "execution_count": 4,
   "metadata": {},
   "outputs": [],
   "source": [
    "np.random.seed(111)"
   ]
  },
  {
   "cell_type": "code",
   "execution_count": 9,
   "metadata": {},
   "outputs": [
    {
     "data": {
      "image/png": "[encoded data removed]",
      "text/plain": [
       "<Figure size 432x288 with 1 Axes>"
      ]
     },
     "metadata": {
      "needs_background": "light"
     },
     "output_type": "display_data"
    },
    {
     "name": "stdout",
     "output_type": "stream",
     "text": [
      "2\n"
     ]
    }
   ],
   "source": [
    "mu = 3.7\n",
    "sigma = 2\n",
    "n = 9\n",
    "nexp = 20 \n",
    "counter = 0\n",
    "for i in range(nexp):\n",
    "    x = np.random.normal(mu,sigma,n) # simulates n realizations from a Gaussian with mean mu and var sigma^2\n",
    "    sig = sigma # TODO: adapt for b)\n",
    "    fac1 = scipy.stats.norm.ppf(0.025, 0, 1) # computes the 0.025quantile of a Gaussian, roughly -1.96 \n",
    "    fac2 = scipy.stats.norm.ppf(0.975, 0, 1) # computes the 0.975quantile of a Gaussian, roughly 1.96 \n",
    "    a = np.mean(x) - fac2*sig/np.sqrt(n) # TODO: adapt for c)\n",
    "    b = np.mean(x) - fac1*sig/np.sqrt(n) # TODO: adapt for c)\n",
    "    if (a < mu) & (mu < b):\n",
    "        if nexp < 1000:\n",
    "            plt.plot((a, b), (i, i), 'k-')\n",
    "    else:\n",
    "        counter = counter + 1\n",
    "        if nexp < 1000:\n",
    "            plt.plot((a, b), (i, i), 'r-')\n",
    "if nexp < 1000:\n",
    "    plt.plot((mu, mu), (0, nexp), 'b-')\n",
    "    plt.show()\n",
    "print(counter)\n",
    "\n"
   ]
  },
  {
   "cell_type": "code",
   "execution_count": null,
   "metadata": {},
   "outputs": [],
   "source": []
  },
  {
   "cell_type": "code",
   "execution_count": null,
   "metadata": {
    "collapsed": true
   },
   "outputs": [],
   "source": []
  }
 ],
 "metadata": {
  "anaconda-cloud": {},
  "kernelspec": {
   "display_name": "Python 3",
   "language": "python",
   "name": "python3"
  },
  "language_info": {
   "codemirror_mode": {
    "name": "ipython",
    "version": 3
   },
   "file_extension": ".py",
   "mimetype": "text/x-python",
   "name": "python",
   "nbconvert_exporter": "python",
   "pygments_lexer": "ipython3",
   "version": "3.7.6"
  }
 },
 "nbformat": 4,
 "nbformat_minor": 1
}
