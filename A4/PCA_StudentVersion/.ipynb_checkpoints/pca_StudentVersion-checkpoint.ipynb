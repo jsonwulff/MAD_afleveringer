{
 "cells": [
  {
   "cell_type": "markdown",
   "metadata": {},
   "source": [
    "# Assignment: Principal Components Analysis (PCA)"
   ]
  },
  {
   "cell_type": "markdown",
   "metadata": {},
   "source": [
    "Task 1: Implement PCA on the diatoms database. Please output the proportion of variance explained by each of the first 10 components (5 points)\n",
    "\n",
    "Task 2: Visualize fourth component of the PCA (3 points)\n",
    "\n",
    "\n",
    "\n",
    "We start by loading the dataset found in the file 'diatoms.txt', which contains a set of *diatom* outlines. A diatom is a type of algae, whose species is strongly correlated with its outline shape; in the following, we will be using these outlines as a descriptive feature of the diatom.\n",
    "\n",
    "The file 'diatoms.txt' contains 780 diatoms described by 90 successive \"landmark points\" (x_i, y_i) along the outline, recorded as (x_0, y_0, x_1, y_1, ..., x_89, y_89).\n",
    "\n",
    "The file 'diatoms_classes.txt' contains one class assignment per diatom, into species classified by the integers 1-37."
   ]
  },
  {
   "cell_type": "code",
   "execution_count": 1,
   "metadata": {},
   "outputs": [
    {
     "name": "stdout",
     "output_type": "stream",
     "text": [
      "Shape of diatoms: (180, 780)\n",
      "Shape of diatoms_classes: (780,)\n",
      "Dimension: 180\n",
      "Sample size: 780\n"
     ]
    }
   ],
   "source": [
    "import numpy as np\n",
    "\n",
    "np.set_printoptions(precision=4, suppress=True)\n",
    "\n",
    "\n",
    "diatoms = np.loadtxt('diatoms.txt', delimiter=',').T\n",
    "diatoms_classes = np.loadtxt('diatoms_classes.txt', delimiter=',')\n",
    "print('Shape of diatoms:', diatoms.shape)\n",
    "print('Shape of diatoms_classes:', diatoms_classes.shape)\n",
    "#print('Classes:', diatoms_classes)\n",
    "\n",
    "d,N = diatoms.shape\n",
    "print('Dimension:', d)\n",
    "print('Sample size:', N)"
   ]
  },
  {
   "cell_type": "markdown",
   "metadata": {},
   "source": [
    "Here's a function that will plot a given diatom. Let's try it on the first diatom in the dataset."
   ]
  },
  {
   "cell_type": "code",
   "execution_count": 2,
   "metadata": {},
   "outputs": [
    {
     "data": {
      "image/png": "[encoded data removed]",
      "text/plain": [
       "<Figure size 432x288 with 1 Axes>"
      ]
     },
     "metadata": {
      "needs_background": "light"
     },
     "output_type": "display_data"
    }
   ],
   "source": [
    "import matplotlib.pyplot as plt\n",
    "\n",
    "def plot_diatom(diatom):\n",
    "    xs = np.zeros(91)\n",
    "    ys = np.zeros(91)\n",
    "    for i in range(90):\n",
    "        # Loop from 0 - 179\n",
    "        xs[i] = diatom[2*i]\n",
    "        ys[i] = diatom[2*i+1]\n",
    "    \n",
    "    # Loop around to first landmark point to get a connected shape\n",
    "    xs[90] = xs[0]\n",
    "    ys[90] = ys[0]\n",
    "    \n",
    "    plt.plot(xs, ys)    \n",
    "    plt.axis('equal')   \n",
    "\n",
    "plot_diatom(diatoms[:,0])"
   ]
  },
  {
   "cell_type": "markdown",
   "metadata": {},
   "source": [
    "Let's next compute the mean diatom and plot it."
   ]
  },
  {
   "cell_type": "code",
   "execution_count": 3,
   "metadata": {},
   "outputs": [
    {
     "data": {
      "image/png": "[encoded data removed]",
      "text/plain": [
       "<Figure size 432x288 with 1 Axes>"
      ]
     },
     "metadata": {
      "needs_background": "light"
     },
     "output_type": "display_data"
    }
   ],
   "source": [
    "mean_diatom = np.mean(diatoms, 1)\n",
    "plot_diatom(mean_diatom)"
   ]
  },
  {
   "cell_type": "markdown",
   "metadata": {},
   "source": [
    "### Task1: Implementing PCA\n",
    "\n",
    "To implement PCA, please check the algorithm explaination from the lecture.\n",
    "Hits:\n",
    "\n",
    "1) Noramilize data subtracting the mean shape. No need to use Procrustes Analysis or other more complex types of normalization\n",
    "\n",
    "2) Compute covariance matrix (check np.cov)\n",
    "\n",
    "3) Compute eigenvectors and values (check np.linalg.eigh)"
   ]
  },
  {
   "cell_type": "code",
   "execution_count": 6,
   "metadata": {},
   "outputs": [
    {
     "name": "stdout",
     "output_type": "stream",
     "text": [
      "[[-0.0931  0.0252 -0.185  ...  0.0028  0.0007  0.0001]\n",
      " [-0.0008 -0.0001  0.0042 ...  0.0098  0.011   0.0069]\n",
      " [-0.0899  0.056  -0.1583 ... -0.0014 -0.0011  0.0036]\n",
      " ...\n",
      " [ 0.0068 -0.0036 -0.0355 ... -0.0005  0.0035 -0.0005]\n",
      " [-0.0887 -0.0111 -0.1779 ... -0.0033 -0.0005  0.0015]\n",
      " [-0.0004  0.0021 -0.023  ... -0.0045 -0.0017 -0.0048]]\n"
     ]
    }
   ],
   "source": [
    "import numpy.matlib\n",
    "\n",
    "def pca(data):\n",
    "    mean = np.mean(data, 1)\n",
    "    data_cent = np.array(data)\n",
    " \n",
    "    for i in range(data.shape[1]):\n",
    "        data_cent[:,i] = data[:,i] - mean\n",
    "    \n",
    "    cov = np.cov(data_cent)\n",
    "    \n",
    "    w, v = np.linalg.eigh(cov)\n",
    "    PCevals = np.flip(w)\n",
    "    PCevecs = np.flip(v)\n",
    "    #PCevecs = np.flip(v, axis=1) // \n",
    "\n",
    "    return PCevals, PCevecs, data_cent\n",
    "    \n",
    "PCevals, PCevecs, data_cent = pca(diatoms)\n",
    "\n",
    "\n",
    "# PCevals is a vector of eigenvalues in decreasing order. To verify, uncomment:\n",
    "print(PCevecs)\n",
    "# PCevecs is a matrix whose columns are the eigenvectors listed in the order of decreasing eigenvectors\n",
    "\n",
    "\n"
   ]
  },
  {
   "cell_type": "markdown",
   "metadata": {},
   "source": [
    "***Recall:***\n",
    "* The eigenvalues represent the variance of the data projected to the corresponding eigenvectors. \n",
    "* Thus, the 2D linear subspace with highest projected variance is spanned by the eigenvectors corresponding to the two largest eigenvalues.\n",
    "* We extract these eigenvectors and plot the data projected onto the corresponding space."
   ]
  },
  {
   "cell_type": "markdown",
   "metadata": {},
   "source": [
    "### Compute variance of the first 10 components\n",
    "\n",
    "How many components you need to cover 90%, 95% and 99% of variantion. Submit the resulting numbers for grading."
   ]
  },
  {
   "cell_type": "code",
   "execution_count": 7,
   "metadata": {},
   "outputs": [
    {
     "name": "stdout",
     "output_type": "stream",
     "text": [
      "Proportion of variance explained by the first 1 principal components: 0.7718721493017527\n",
      "Proportion of variance explained by the first 2 principal components: 0.9276996293043025\n",
      "Proportion of variance explained by the first 3 principal components: 0.9521198453942007\n",
      "Proportion of variance explained by the first 4 principal components: 0.9637878603999529\n",
      "Proportion of variance explained by the first 5 principal components: 0.9739084497954094\n",
      "Proportion of variance explained by the first 6 principal components: 0.98236065164916\n",
      "Proportion of variance explained by the first 7 principal components: 0.9889975933245944\n",
      "Proportion of variance explained by the first 8 principal components: 0.9910287023941854\n",
      "Proportion of variance explained by the first 9 principal components: 0.9926692113360289\n",
      "Proportion of variance explained by the first 10 principal components: 0.9939926229665051\n"
     ]
    },
    {
     "data": {
      "image/png": "[encoded data removed]",
      "text/plain": [
       "<Figure size 432x288 with 1 Axes>"
      ]
     },
     "metadata": {
      "needs_background": "light"
     },
     "output_type": "display_data"
    }
   ],
   "source": [
    "variance_explained_per_component = PCevals/np.sum(PCevals)\n",
    "cumulative_variance_explained = np.cumsum(variance_explained_per_component)\n",
    "\n",
    "plt.plot(cumulative_variance_explained)\n",
    "plt.xlabel('Number of principal components included')\n",
    "plt.ylabel('Proportion of variance explained')\n",
    "plt.title('Proportion of variance explained as a function of number of PCs included')\n",
    "\n",
    "# Let's print out the proportion of variance explained by the first 10 PCs\n",
    "for i in range(10):\n",
    "    print('Proportion of variance explained by the first '+str(i+1)+' principal components:', cumulative_variance_explained[i])"
   ]
  },
  {
   "cell_type": "markdown",
   "metadata": {},
   "source": [
    "### Task2: Plot varianace accosiated with the first component\n",
    "\n",
    "Please fill the gaps in the code to plot mean diatom shape with added FOURTH eigenvector mulitplied by [-3,-2,-1,0,1,2,3] standard deviations corresponding to this eigenvector.\n",
    "\n",
    "Submit the resulting plot for grading."
   ]
  },
  {
   "cell_type": "code",
   "execution_count": 223,
   "metadata": {},
   "outputs": [
    {
     "ename": "IndentationError",
     "evalue": "expected an indented block (<ipython-input-223-cfd7461d0d7b>, line 12)",
     "output_type": "error",
     "traceback": [
      "\u001b[0;36m  File \u001b[0;32m\"<ipython-input-223-cfd7461d0d7b>\"\u001b[0;36m, line \u001b[0;32m12\u001b[0m\n\u001b[0;31m    for i in range(7):\u001b[0m\n\u001b[0m      ^\u001b[0m\n\u001b[0;31mIndentationError\u001b[0m\u001b[0;31m:\u001b[0m expected an indented block\n"
     ]
    }
   ],
   "source": [
    "e4 = PCevecs[:, 3] # gets the fourth eigenvector\n",
    "print(e4.shape)\n",
    "print(e4)\n",
    "lambda4 = PCevals[3] # gets the fourth eigenvalue\n",
    "print(lambda4)\n",
    "std4 = np.sqrt(lambda4) # In case the naming std is confusing -- the eigenvalues have a statistical interpretation\n",
    "\n",
    "diatoms_along_pc = np.zeros((7, 180))\n",
    "for i in range(7):\n",
    "    #.......\n",
    "    \n",
    "for i in range(7):\n",
    "    plot_diatom(diatoms_along_pc[i])\n",
    "\n",
    "plt.title('Diatom shape along PC1')"
   ]
  },
  {
   "cell_type": "code",
   "execution_count": null,
   "metadata": {},
   "outputs": [],
   "source": []
  }
 ],
 "metadata": {
  "anaconda-cloud": {},
  "kernelspec": {
   "display_name": "Python 3",
   "language": "python",
   "name": "python3"
  },
  "language_info": {
   "codemirror_mode": {
    "name": "ipython",
    "version": 3
   },
   "file_extension": ".py",
   "mimetype": "text/x-python",
   "name": "python",
   "nbconvert_exporter": "python",
   "pygments_lexer": "ipython3",
   "version": "3.7.6"
  }
 },
 "nbformat": 4,
 "nbformat_minor": 1
}
