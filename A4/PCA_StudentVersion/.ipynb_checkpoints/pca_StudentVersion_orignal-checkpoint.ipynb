{
 "cells": [
  {
   "cell_type": "markdown",
   "metadata": {},
   "source": [
    "# Assignment: Principal Components Analysis (PCA)"
   ]
  },
  {
   "cell_type": "markdown",
   "metadata": {},
   "source": [
    "Task 1: Implement PCA on the diatoms database. Please output the proportion of variance explained by each of the first 10 components (5 points)\n",
    "\n",
    "Task 2: Visualize fourth component of the PCA (3 points)\n",
    "\n",
    "\n",
    "\n",
    "We start by loading the dataset found in the file 'diatoms.txt', which contains a set of *diatom* outlines. A diatom is a type of algae, whose species is strongly correlated with its outline shape; in the following, we will be using these outlines as a descriptive feature of the diatom.\n",
    "\n",
    "The file 'diatoms.txt' contains 780 diatoms described by 90 successive \"landmark points\" (x_i, y_i) along the outline, recorded as (x_0, y_0, x_1, y_1, ..., x_89, y_89).\n",
    "\n",
    "The file 'diatoms_classes.txt' contains one class assignment per diatom, into species classified by the integers 1-37."
   ]
  },
  {
   "cell_type": "code",
   "execution_count": 1,
   "metadata": {},
   "outputs": [
    {
     "name": "stdout",
     "output_type": "stream",
     "text": [
      "Shape of diatoms: (180, 780)\n",
      "Shape of diatoms_classes: (780,)\n",
      "Dimension: 180\n",
      "Sample size: 780\n"
     ]
    }
   ],
   "source": [
    "import numpy as np\n",
    "\n",
    "diatoms = np.loadtxt('diatoms.txt', delimiter=',').T\n",
    "diatoms_classes = np.loadtxt('diatoms_classes.txt', delimiter=',')\n",
    "print('Shape of diatoms:', diatoms.shape)\n",
    "print('Shape of diatoms_classes:', diatoms_classes.shape)\n",
    "#print('Classes:', diatoms_classes)\n",
    "\n",
    "d,N = diatoms.shape\n",
    "print('Dimension:', d)\n",
    "print('Sample size:', N)"
   ]
  },
  {
   "cell_type": "markdown",
   "metadata": {},
   "source": [
    "Here's a function that will plot a given diatom. Let's try it on the first diatom in the dataset."
   ]
  },
  {
   "cell_type": "code",
   "execution_count": 2,
   "metadata": {},
   "outputs": [],
   "source": [
    "import matplotlib.pyplot as plt\n",
    "\n",
    "def plot_diatom(diatom):\n",
    "    xs = np.zeros(91)\n",
    "    ys = np.zeros(91)\n",
    "    for i in range(90):\n",
    "        xs[i] = diatom[2*i]\n",
    "        ys[i] = diatom[2*i+1]\n",
    "    \n",
    "    # Loop around to first landmark point to get a connected shape\n",
    "    xs[90] = xs[0]\n",
    "    ys[90] = ys[0]\n",
    "    \n",
    "    plt.plot(xs, ys)    \n",
    "    plt.axis('equal')   \n",
    "\n",
    "plot_diatom(diatoms[:,0])"
   ]
  },
  {
   "cell_type": "markdown",
   "metadata": {},
   "source": [
    "Let's next compute the mean diatom and plot it."
   ]
  },
  {
   "cell_type": "code",
   "execution_count": 3,
   "metadata": {},
   "outputs": [
    {
     "name": "stdout",
     "output_type": "stream",
     "text": [
      "[ 15.86881667  -0.01717019  15.64845     -0.72321831  15.16916154\n",
      "  -1.23875017  14.56780641  -1.61714055  13.90240897  -1.9073491\n",
      "  13.20492038  -2.17096526  12.49627782  -2.41778296  11.78487731\n",
      "  -2.66703849  11.05893     -2.89883759  10.32082821  -3.11986754\n",
      "   9.57352385  -3.32131945   8.81758526  -3.50634286   8.05632885\n",
      "  -3.67854887   7.29028256  -3.83628258   6.52061103  -3.98072394\n",
      "   5.74743705  -4.11262518   4.97098744  -4.23049051   4.19226482\n",
      "  -4.33719246   3.41162542  -4.4298554    2.62970765  -4.5100271\n",
      "   1.84815286  -4.5831551    1.06512071  -4.63509786   0.27816563\n",
      "  -4.66211179  -0.51215359  -4.64574321  -1.29707784  -4.58808474\n",
      "  -2.07777469  -4.51068621  -2.85662761  -4.41409973  -3.63606226\n",
      "  -4.31189836  -4.41151687  -4.19056282  -5.18682167  -4.06905201\n",
      "  -5.95845077  -3.92799028  -6.72718385  -3.77814908  -7.4921009\n",
      "  -3.61416278  -8.25215679  -3.43710072  -9.00679615  -3.24597065\n",
      "  -9.75599308  -3.04536442 -10.49698321  -2.83056431 -11.23033923\n",
      "  -2.60307748 -11.95477474  -2.36663155 -12.67278115  -2.12557652\n",
      " -13.38912436  -1.88481667 -14.10207821  -1.64601075 -14.79235\n",
      "  -1.37708692 -15.41978974  -1.01007672 -15.88875769  -0.46326199\n",
      " -16.03225513   0.27367138 -15.82246795   0.98005855 -15.32998333\n",
      "   1.48000797 -14.69924103   1.8014899  -14.00818333   2.03668815\n",
      " -13.28596795   2.23616873 -12.55794846   2.42785269 -11.82558038\n",
      "   2.61980826 -11.08581064   2.80471185 -10.33676923   2.98336109\n",
      "  -9.57913154   3.14511583  -8.81807026   3.29818174  -8.05132474\n",
      "   3.4418535   -7.28122718   3.57219742  -6.50998141   3.69704215\n",
      "  -5.73364256   3.80723467  -4.95615744   3.9145571   -4.17551628\n",
      "   4.01315177  -3.39417455   4.09954327  -2.61293736   4.18998613\n",
      "  -1.83108915   4.26547362  -1.04874298   4.33236679  -0.26345046\n",
      "   4.38102782   0.52726327   4.38693051   1.31392217   4.36099577\n",
      "   2.09636357   4.30701259   2.87821891   4.2405415    3.66090737\n",
      "   4.17147271   4.44218595   4.09371581   5.22334731   4.01013842\n",
      "   6.00292474   3.91323983   6.78008526   3.80404068   7.55504667\n",
      "   3.68605199   8.32684308   3.55864285   9.09446154   3.41643505\n",
      "   9.855595     3.26310654  10.60998974   3.08869755  11.35452487\n",
      "   2.89813513  12.08410679   2.68552597  12.79775295   2.46237609\n",
      "  13.49992436   2.22412001  14.18558205   1.97308724  14.82820897\n",
      "   1.67785165  15.38127179   1.27048351  15.77353718   0.70749208]\n"
     ]
    },
    {
     "data": {
      "image/png": "[encoded data removed]",
      "text/plain": [
       "<Figure size 432x288 with 1 Axes>"
      ]
     },
     "metadata": {
      "needs_background": "light"
     },
     "output_type": "display_data"
    }
   ],
   "source": [
    "mean_diatom = np.mean(diatoms, 1)\n",
    "plot_diatom(mean_diatom)\n",
    "print(mean_diatom)"
   ]
  },
  {
   "cell_type": "markdown",
   "metadata": {},
   "source": [
    "### Task1: Implementing PCA\n",
    "\n",
    "To implement PCA, please check the algorithm explaination from the lecture.\n",
    "Hits:\n",
    "\n",
    "1) Noramilize data subtracting the mean shape. No need to use Procrustes Analysis or other more complex types of normalization\n",
    "\n",
    "2) Compute covariance matrix (check np.cov)\n",
    "\n",
    "3) Compute eigenvectors and values (check np.linalg.eigh)"
   ]
  },
  {
   "cell_type": "code",
   "execution_count": 1,
   "metadata": {},
   "outputs": [
    {
     "ename": "NameError",
     "evalue": "name 'diatoms' is not defined",
     "output_type": "error",
     "traceback": [
      "\u001b[1;31m---------------------------------------------------------------------------\u001b[0m",
      "\u001b[1;31mNameError\u001b[0m                                 Traceback (most recent call last)",
      "\u001b[1;32m<ipython-input-1-59812988fed3>\u001b[0m in \u001b[0;36m<module>\u001b[1;34m\u001b[0m\n\u001b[0;32m      5\u001b[0m     \u001b[1;32mreturn\u001b[0m \u001b[0mPCevals\u001b[0m\u001b[1;33m,\u001b[0m \u001b[0mPCevecs\u001b[0m\u001b[1;33m,\u001b[0m \u001b[0mdata_cent\u001b[0m\u001b[1;33m\u001b[0m\u001b[1;33m\u001b[0m\u001b[0m\n\u001b[0;32m      6\u001b[0m \u001b[1;33m\u001b[0m\u001b[0m\n\u001b[1;32m----> 7\u001b[1;33m \u001b[0mPCevals\u001b[0m\u001b[1;33m,\u001b[0m \u001b[0mPCevecs\u001b[0m\u001b[1;33m,\u001b[0m \u001b[0mdata_cent\u001b[0m \u001b[1;33m=\u001b[0m \u001b[0mpca\u001b[0m\u001b[1;33m(\u001b[0m\u001b[0mdiatoms\u001b[0m\u001b[1;33m)\u001b[0m\u001b[1;33m\u001b[0m\u001b[1;33m\u001b[0m\u001b[0m\n\u001b[0m\u001b[0;32m      8\u001b[0m \u001b[1;31m# PCevals is a vector of eigenvalues in decreasing order. To verify, uncomment:\u001b[0m\u001b[1;33m\u001b[0m\u001b[1;33m\u001b[0m\u001b[1;33m\u001b[0m\u001b[0m\n\u001b[0;32m      9\u001b[0m \u001b[1;31m# print(PCevals)\u001b[0m\u001b[1;33m\u001b[0m\u001b[1;33m\u001b[0m\u001b[1;33m\u001b[0m\u001b[0m\n",
      "\u001b[1;31mNameError\u001b[0m: name 'diatoms' is not defined"
     ]
    }
   ],
   "source": [
    "import numpy.matlib\n",
    "\n",
    "def pca(data):\n",
    "    #........\n",
    "    return PCevals, PCevecs, data_cent\n",
    "\n",
    "PCevals, PCevecs, data_cent = pca(diatoms)\n",
    "# PCevals is a vector of eigenvalues in decreasing order. To verify, uncomment:\n",
    "# print(PCevals)\n",
    "# PCevecs is a matrix whose columns are the eigenvectors listed in the order of decreasing eigenvectors"
   ]
  },
  {
   "cell_type": "markdown",
   "metadata": {},
   "source": [
    "***Recall:***\n",
    "* The eigenvalues represent the variance of the data projected to the corresponding eigenvectors. \n",
    "* Thus, the 2D linear subspace with highest projected variance is spanned by the eigenvectors corresponding to the two largest eigenvalues.\n",
    "* We extract these eigenvectors and plot the data projected onto the corresponding space."
   ]
  },
  {
   "cell_type": "markdown",
   "metadata": {},
   "source": [
    "### Compute variance of the first 10 components\n",
    "\n",
    "How many components you need to cover 90%, 95% and 99% of variantion. Submit the resulting numbers for grading."
   ]
  },
  {
   "cell_type": "code",
   "execution_count": 2,
   "metadata": {},
   "outputs": [
    {
     "ename": "NameError",
     "evalue": "name 'PCevals' is not defined",
     "output_type": "error",
     "traceback": [
      "\u001b[1;31m---------------------------------------------------------------------------\u001b[0m",
      "\u001b[1;31mNameError\u001b[0m                                 Traceback (most recent call last)",
      "\u001b[1;32m<ipython-input-2-1723efb2d888>\u001b[0m in \u001b[0;36m<module>\u001b[1;34m\u001b[0m\n\u001b[1;32m----> 1\u001b[1;33m \u001b[0mvariance_explained_per_component\u001b[0m \u001b[1;33m=\u001b[0m \u001b[0mPCevals\u001b[0m\u001b[1;33m/\u001b[0m\u001b[0mnp\u001b[0m\u001b[1;33m.\u001b[0m\u001b[0msum\u001b[0m\u001b[1;33m(\u001b[0m\u001b[0mPCevals\u001b[0m\u001b[1;33m)\u001b[0m\u001b[1;33m\u001b[0m\u001b[1;33m\u001b[0m\u001b[0m\n\u001b[0m\u001b[0;32m      2\u001b[0m \u001b[0mcumulative_variance_explained\u001b[0m \u001b[1;33m=\u001b[0m \u001b[0mnp\u001b[0m\u001b[1;33m.\u001b[0m\u001b[0mcumsum\u001b[0m\u001b[1;33m(\u001b[0m\u001b[0mvariance_explained_per_component\u001b[0m\u001b[1;33m)\u001b[0m\u001b[1;33m\u001b[0m\u001b[1;33m\u001b[0m\u001b[0m\n\u001b[0;32m      3\u001b[0m \u001b[1;33m\u001b[0m\u001b[0m\n\u001b[0;32m      4\u001b[0m \u001b[0mplt\u001b[0m\u001b[1;33m.\u001b[0m\u001b[0mplot\u001b[0m\u001b[1;33m(\u001b[0m\u001b[0mcumulative_variance_explained\u001b[0m\u001b[1;33m)\u001b[0m\u001b[1;33m\u001b[0m\u001b[1;33m\u001b[0m\u001b[0m\n\u001b[0;32m      5\u001b[0m \u001b[0mplt\u001b[0m\u001b[1;33m.\u001b[0m\u001b[0mxlabel\u001b[0m\u001b[1;33m(\u001b[0m\u001b[1;34m'Number of principal components included'\u001b[0m\u001b[1;33m)\u001b[0m\u001b[1;33m\u001b[0m\u001b[1;33m\u001b[0m\u001b[0m\n",
      "\u001b[1;31mNameError\u001b[0m: name 'PCevals' is not defined"
     ]
    }
   ],
   "source": [
    "variance_explained_per_component = PCevals/np.sum(PCevals)\n",
    "cumulative_variance_explained = np.cumsum(variance_explained_per_component)\n",
    "\n",
    "plt.plot(cumulative_variance_explained)\n",
    "plt.xlabel('Number of principal components included')\n",
    "plt.ylabel('Proportion of variance explained')\n",
    "plt.title('Proportion of variance explained as a function of number of PCs included')\n",
    "\n",
    "# Let's print out the proportion of variance explained by the first 10 PCs\n",
    "for i in range(10):\n",
    "    print('Proportion of variance explained by the first '+str(i+1)+' principal components:', cumulative_variance_explained[i])"
   ]
  },
  {
   "cell_type": "markdown",
   "metadata": {},
   "source": [
    "### Task2: Plot varianace accosiated with the first component\n",
    "\n",
    "Please fill the gaps in the code to plot mean diatom shape with added FOURTH eigenvector mulitplied by [-3,-2,-1,0,1,2,3] standard deviations corresponding to this eigenvector.\n",
    "\n",
    "Submit the resulting plot for grading."
   ]
  },
  {
   "cell_type": "code",
   "execution_count": 3,
   "metadata": {},
   "outputs": [
    {
     "ename": "IndentationError",
     "evalue": "expected an indented block (<ipython-input-3-8765442bad73>, line 9)",
     "output_type": "error",
     "traceback": [
      "\u001b[1;36m  File \u001b[1;32m\"<ipython-input-3-8765442bad73>\"\u001b[1;36m, line \u001b[1;32m9\u001b[0m\n\u001b[1;33m    for i in range(7):\u001b[0m\n\u001b[1;37m      ^\u001b[0m\n\u001b[1;31mIndentationError\u001b[0m\u001b[1;31m:\u001b[0m expected an indented block\n"
     ]
    }
   ],
   "source": [
    "e4 = PCevecs[:, 3] # gets the second eigenvector\n",
    "lambda4 = PCevals[3] # gets the second eigenvalue\n",
    "std4 = np.sqrt(lambda4) # In case the naming std is confusing -- the eigenvalues have a statistical interpretation\n",
    "\n",
    "diatoms_along_pc = np.zeros((7, 180))\n",
    "for i in range(7):\n",
    "    #.......\n",
    "    \n",
    "for i in range(7):\n",
    "    plot_diatom(diatoms_along_pc[i])\n",
    "\n",
    "plt.title('Diatom shape along PC1')"
   ]
  },
  {
   "cell_type": "code",
   "execution_count": null,
   "metadata": {},
   "outputs": [],
   "source": []
  }
 ],
 "metadata": {
  "anaconda-cloud": {},
  "kernelspec": {
   "display_name": "Python 3",
   "language": "python",
   "name": "python3"
  },
  "language_info": {
   "codemirror_mode": {
    "name": "ipython",
    "version": 3
   },
   "file_extension": ".py",
   "mimetype": "text/x-python",
   "name": "python",
   "nbconvert_exporter": "python",
   "pygments_lexer": "ipython3",
   "version": "3.7.4"
  }
 },
 "nbformat": 4,
 "nbformat_minor": 1
}
